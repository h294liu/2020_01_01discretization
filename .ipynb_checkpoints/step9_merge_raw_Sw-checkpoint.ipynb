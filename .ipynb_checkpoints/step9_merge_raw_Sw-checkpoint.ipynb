{
 "cells": [
  {
   "cell_type": "code",
   "execution_count": 1,
   "metadata": {},
   "outputs": [
    {
     "name": "stdout",
     "output_type": "stream",
     "text": [
      "day0\n",
      "day1\n",
      "day2\n",
      "day3\n",
      "day4\n",
      "day5\n",
      "day6\n",
      "day7\n",
      "day8\n",
      "day9\n",
      "day10\n",
      "day11\n",
      "day12\n",
      "day13\n",
      "day14\n",
      "day15\n",
      "day16\n",
      "day17\n",
      "day18\n",
      "day19\n",
      "day20\n",
      "day21\n",
      "day22\n",
      "day23\n",
      "day24\n",
      "day25\n",
      "day26\n",
      "day27\n",
      "day28\n",
      "day29\n",
      "day30\n",
      "day31\n",
      "day32\n",
      "day33\n",
      "day34\n",
      "day35\n",
      "day36\n",
      "day37\n",
      "day38\n",
      "day39\n",
      "day40\n",
      "day41\n",
      "day42\n",
      "day43\n",
      "day44\n",
      "day45\n",
      "day46\n",
      "day47\n",
      "day48\n",
      "day49\n",
      "day50\n",
      "day51\n",
      "day52\n",
      "day53\n",
      "day54\n",
      "day55\n",
      "day56\n",
      "day57\n",
      "day58\n",
      "day59\n",
      "day60\n"
     ]
    },
    {
     "name": "stderr",
     "output_type": "stream",
     "text": [
      "/glade/u/home/hongli/tools/miniconda/ENTER/lib/python3.7/site-packages/ipykernel_launcher.py:57: RuntimeWarning: Mean of empty slice\n"
     ]
    },
    {
     "name": "stdout",
     "output_type": "stream",
     "text": [
      "Done\n"
     ]
    }
   ],
   "source": [
    "from osgeo import gdal\n",
    "import argparse, os\n",
    "import numpy as np\n",
    "from pyproj import Proj\n",
    "gdal.UseExceptions()\n",
    "import pandas as pd\n",
    "\n",
    "def array_to_raster(tpl_file,dst_file,array,nodata):\n",
    "    # reference: https://gis.stackexchange.com/questions/164853/reading-modifying-and-writing-a-geotiff-with-gdal-in-python\n",
    "    ds = gdal.Open(tpl_file)\n",
    "    band = ds.GetRasterBand(1)\n",
    "    arr = band.ReadAsArray()\n",
    "    [cols, rows] = arr.shape\n",
    "\n",
    "    driver = gdal.GetDriverByName(\"GTiff\")\n",
    "    outdata = driver.Create(dst_file, rows, cols, 1, gdal.GDT_Float32) #gdal.GDT_UInt16\n",
    "    outdata.SetGeoTransform(ds.GetGeoTransform()) #set same geotransform as input\n",
    "    outdata.SetProjection(ds.GetProjection()) #set the same projection as input\n",
    "    outdata.GetRasterBand(1).WriteArray(array)\n",
    "    outdata.GetRasterBand(1).SetNoDataValue(nodata) #if you want these values transparent\n",
    "    outdata.FlushCache() #saves to disk\n",
    "    return outdata.GetRasterBand(1) \n",
    "\n",
    "# main script\n",
    "work_dir='/glade/u/home/hongli/work/research/discretization/scripts'\n",
    "sw_result_dir=os.path.join(work_dir, 'step8_raw_Sw')\n",
    "opath=os.path.join(work_dir, 'step9_merge_raw_Sw')\n",
    "if not os.path.exists(opath):\n",
    "    os.makedirs(opath)\n",
    "# ofile = 'sw.tif'  \n",
    "ofile = 'sw_buf_100m.tif'\n",
    "\n",
    "first_day = 121  # May 1\n",
    "last_day = 181   # June 30\n",
    "ndays = last_day-first_day+1\n",
    "Sw_nodata=-9999\n",
    "\n",
    "for i in np.arange(ndays):\n",
    "    print('day'+str(i))\n",
    "    DOY = first_day+i\n",
    "    ofile_raster='sw_DOY'+str(DOY)+'.tif'\n",
    "    ofile_path=os.path.join(sw_result_dir,ofile_raster)\n",
    "\n",
    "    r = gdal.Open(ofile_path)\n",
    "    band = r.GetRasterBand(1) #bands start at one\n",
    "    if i == 0:\n",
    "        tpl_raster=ofile_raster\n",
    "        \n",
    "        sw=band.ReadAsArray().astype(np.float)\n",
    "        m = (sw==Sw_nodata)\n",
    "        sw_mask = np.ma.make_mask(m)\n",
    "        \n",
    "        (ny,nx) = np.shape(sw)\n",
    "        Total_Radiation = np.empty((ny,nx,ndays))\n",
    "    Total_Radiation[:,:,i] = band.ReadAsArray().astype(np.float)\n",
    "    del r,band\n",
    "\n",
    "SW_Rad = np.nanmean(Total_Radiation,axis = 2) #Return Average Annual\n",
    "Sw_Rad_value=np.ma.getdata(SW_Rad)\n",
    "Sw_Rad_value[sw_mask==True]=np.nan\n",
    "array_to_raster(os.path.join(sw_result_dir,tpl_raster),os.path.join(opath,ofile),Sw_Rad_value,Sw_nodata)\n",
    "\n",
    "print('Done')"
   ]
  },
  {
   "cell_type": "code",
   "execution_count": 13,
   "metadata": {},
   "outputs": [
    {
     "name": "stderr",
     "output_type": "stream",
     "text": [
      "/glade/u/home/hongli/tools/miniconda/ENTER/lib/python3.7/site-packages/ipykernel_launcher.py:9: VisibleDeprecationWarning: Passing `normed=True` on non-uniform bins has always been broken, and computes neither the probability density function nor the probability mass function. The result is only correct if the bins are uniform, when density=True will produce the same result anyway. The argument will be removed in a future version of numpy.\n",
      "  if __name__ == '__main__':\n"
     ]
    },
    {
     "data": {
      "text/plain": [
       "<Figure size 640x480 with 1 Axes>"
      ]
     },
     "metadata": {},
     "output_type": "display_data"
    }
   ],
   "source": [
    "import numpy as np\n",
    "import matplotlib.pyplot as plt\n",
    "\n",
    "# Choose how many bins you want here\n",
    "num_bins = 100\n",
    "\n",
    "# Use the histogram function to bin the data\n",
    "Sw_Rad_value_extract = Sw_Rad_value[~np.isnan(Sw_Rad_value)]\n",
    "counts, bin_edges = np.histogram(Sw_Rad_value_extract, bins=num_bins, normed=True)\n",
    "\n",
    "# Now find the cdf\n",
    "cdf = np.cumsum(counts)\n",
    "\n",
    "# And finally plot the cdf\n",
    "plt.plot(bin_edges[1:], cdf)\n",
    "\n",
    "plt.show()"
   ]
  },
  {
   "cell_type": "code",
   "execution_count": 14,
   "metadata": {},
   "outputs": [
    {
     "data": {
      "text/plain": [
       "(array([2.92365991e-08, 1.02328097e-07, 8.77097973e-08, 2.04656194e-07,\n",
       "        1.16946396e-07, 1.75419595e-07, 1.60801295e-07, 1.46182996e-07,\n",
       "        1.60801295e-07, 2.04656194e-07, 1.46182996e-07, 2.04656194e-07,\n",
       "        4.09312388e-07, 2.77747692e-07, 4.09312388e-07, 3.06984291e-07,\n",
       "        5.55495383e-07, 5.70113683e-07, 5.11640484e-07, 7.60151577e-07,\n",
       "        1.05251757e-06, 1.06713587e-06, 1.03789927e-06, 1.28641036e-06,\n",
       "        1.37412016e-06, 1.66648615e-06, 2.09041684e-06, 2.01732534e-06,\n",
       "        2.23659983e-06, 2.32430963e-06, 2.54358412e-06, 3.17217100e-06,\n",
       "        3.02598801e-06, 2.68976712e-06, 3.65457489e-06, 4.10774217e-06,\n",
       "        4.09312388e-06, 4.60476436e-06, 4.92636695e-06, 4.99945845e-06,\n",
       "        5.54033553e-06, 5.99350282e-06, 6.22739561e-06, 7.26529488e-06,\n",
       "        7.45533277e-06, 8.04006475e-06, 8.47861374e-06, 9.64807771e-06,\n",
       "        9.85273390e-06, 1.06421221e-05, 1.22939899e-05, 1.22793716e-05,\n",
       "        1.49106655e-05, 1.49837570e-05, 1.73226850e-05, 1.92084456e-05,\n",
       "        2.07141305e-05, 2.35354623e-05, 2.61521379e-05, 3.04499180e-05,\n",
       "        3.37244171e-05, 3.89870049e-05, 4.43665391e-05, 5.34298849e-05,\n",
       "        5.93502962e-05, 7.21851632e-05, 8.22133167e-05, 9.58229536e-05,\n",
       "        1.13978882e-04, 1.35613965e-04, 1.62146179e-04, 1.91382778e-04,\n",
       "        2.32123979e-04, 2.77879256e-04, 3.24847853e-04, 3.91141841e-04,\n",
       "        4.66396847e-04, 5.50510543e-04, 6.61024888e-04, 7.91405501e-04,\n",
       "        9.53522443e-04, 1.15353002e-03, 1.38441144e-03, 1.64395935e-03,\n",
       "        1.94253812e-03, 2.31334590e-03, 2.76920296e-03, 3.32045903e-03,\n",
       "        4.00710980e-03, 4.83840864e-03, 5.91908105e-03, 7.21875021e-03,\n",
       "        8.92569981e-03, 1.12214891e-02, 1.45804235e-02, 2.00177439e-02,\n",
       "        3.03551914e-02, 6.67245120e-02, 6.19274293e-02, 1.19331664e-02]),\n",
       " array([ 18.46649358,  22.19423414,  25.9219747 ,  29.64971527,\n",
       "         33.37745583,  37.1051964 ,  40.83293696,  44.56067753,\n",
       "         48.28841809,  52.01615866,  55.74389922,  59.47163979,\n",
       "         63.19938035,  66.92712092,  70.65486148,  74.38260205,\n",
       "         78.11034261,  81.83808318,  85.56582374,  89.29356431,\n",
       "         93.02130487,  96.74904544, 100.476786  , 104.20452657,\n",
       "        107.93226713, 111.6600077 , 115.38774826, 119.11548883,\n",
       "        122.84322939, 126.57096995, 130.29871052, 134.02645108,\n",
       "        137.75419165, 141.48193221, 145.20967278, 148.93741334,\n",
       "        152.66515391, 156.39289447, 160.12063504, 163.8483756 ,\n",
       "        167.57611617, 171.30385673, 175.0315973 , 178.75933786,\n",
       "        182.48707843, 186.21481899, 189.94255956, 193.67030012,\n",
       "        197.39804069, 201.12578125, 204.85352182, 208.58126238,\n",
       "        212.30900295, 216.03674351, 219.76448408, 223.49222464,\n",
       "        227.2199652 , 230.94770577, 234.67544633, 238.4031869 ,\n",
       "        242.13092746, 245.85866803, 249.58640859, 253.31414916,\n",
       "        257.04188972, 260.76963029, 264.49737085, 268.22511142,\n",
       "        271.95285198, 275.68059255, 279.40833311, 283.13607368,\n",
       "        286.86381424, 290.59155481, 294.31929537, 298.04703594,\n",
       "        301.7747765 , 305.50251707, 309.23025763, 312.9579982 ,\n",
       "        316.68573876, 320.41347933, 324.14121989, 327.86896045,\n",
       "        331.59670102, 335.32444158, 339.05218215, 342.77992271,\n",
       "        346.50766328, 350.23540384, 353.96314441, 357.69088497,\n",
       "        361.41862554, 365.1463661 , 368.87410667, 372.60184723,\n",
       "        376.3295878 , 380.05732836, 383.78506893, 387.51280949,\n",
       "        391.24055006]))"
      ]
     },
     "execution_count": 14,
     "metadata": {},
     "output_type": "execute_result"
    }
   ],
   "source": [
    "counts, bin_edges"
   ]
  },
  {
   "cell_type": "code",
   "execution_count": null,
   "metadata": {},
   "outputs": [],
   "source": []
  }
 ],
 "metadata": {
  "kernelspec": {
   "display_name": "Python [conda env:ENTER]",
   "language": "python",
   "name": "conda-env-ENTER-py"
  },
  "language_info": {
   "codemirror_mode": {
    "name": "ipython",
    "version": 3
   },
   "file_extension": ".py",
   "mimetype": "text/x-python",
   "name": "python",
   "nbconvert_exporter": "python",
   "pygments_lexer": "ipython3",
   "version": "3.7.0"
  }
 },
 "nbformat": 4,
 "nbformat_minor": 4
}
