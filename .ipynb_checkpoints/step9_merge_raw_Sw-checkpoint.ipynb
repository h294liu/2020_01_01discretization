{
 "cells": [
  {
   "cell_type": "code",
   "execution_count": 1,
   "metadata": {},
   "outputs": [
    {
     "name": "stdout",
     "output_type": "stream",
     "text": [
      "day0\n",
      "day1\n",
      "day2\n",
      "day3\n",
      "day4\n",
      "day5\n",
      "day6\n",
      "day7\n",
      "day8\n",
      "day9\n",
      "day10\n",
      "day11\n",
      "day12\n",
      "day13\n",
      "day14\n",
      "day15\n",
      "day16\n",
      "day17\n",
      "day18\n",
      "day19\n",
      "day20\n",
      "day21\n",
      "day22\n",
      "day23\n",
      "day24\n",
      "day25\n",
      "day26\n",
      "day27\n",
      "day28\n",
      "day29\n",
      "day30\n",
      "day31\n",
      "day32\n",
      "day33\n",
      "day34\n",
      "day35\n",
      "day36\n",
      "day37\n",
      "day38\n",
      "day39\n",
      "day40\n",
      "day41\n",
      "day42\n",
      "day43\n",
      "day44\n",
      "day45\n",
      "day46\n",
      "day47\n",
      "day48\n",
      "day49\n",
      "day50\n",
      "day51\n",
      "day52\n",
      "day53\n",
      "day54\n",
      "day55\n",
      "day56\n",
      "day57\n",
      "day58\n",
      "day59\n",
      "day60\n"
     ]
    },
    {
     "name": "stderr",
     "output_type": "stream",
     "text": [
      "/glade/u/home/hongli/tools/miniconda/ENTER/lib/python3.7/site-packages/ipykernel_launcher.py:67: RuntimeWarning: Mean of empty slice\n"
     ]
    },
    {
     "name": "stdout",
     "output_type": "stream",
     "text": [
      "Done\n"
     ]
    }
   ],
   "source": [
    "from osgeo import gdal\n",
    "import argparse, os\n",
    "import numpy as np\n",
    "from pyproj import Proj\n",
    "gdal.UseExceptions()\n",
    "import pandas as pd\n",
    "\n",
    "def array_to_raster(tpl_file,dst_file,array,nodata):\n",
    "    # reference: https://gis.stackexchange.com/questions/164853/reading-modifying-and-writing-a-geotiff-with-gdal-in-python\n",
    "    ds = gdal.Open(tpl_file)\n",
    "    band = ds.GetRasterBand(1)\n",
    "    arr = band.ReadAsArray()\n",
    "    [cols, rows] = arr.shape\n",
    "\n",
    "    driver = gdal.GetDriverByName(\"GTiff\")\n",
    "    outdata = driver.Create(dst_file, rows, cols, 1, gdal.GDT_Float32) #gdal.GDT_UInt16\n",
    "    outdata.SetGeoTransform(ds.GetGeoTransform()) #set same geotransform as input\n",
    "    outdata.SetProjection(ds.GetProjection()) #set the same projection as input\n",
    "    outdata.GetRasterBand(1).WriteArray(array)\n",
    "    outdata.GetRasterBand(1).SetNoDataValue(nodata) #if you want these values transparent\n",
    "    outdata.FlushCache() #saves to disk\n",
    "    return outdata.GetRasterBand(1) \n",
    "\n",
    "# main script\n",
    "work_dir='/glade/u/home/hongli/work/research/discretization/scripts'\n",
    "\n",
    "# # =======================input and output (1) =============================\n",
    "# sw_result_dir=os.path.join(work_dir, 'step8_raw_Sw')\n",
    "# opath=os.path.join(work_dir, 'step9_merge_raw_Sw')\n",
    "# if not os.path.exists(opath):\n",
    "#     os.makedirs(opath)\n",
    "# ofile = 'sw.tif'  \n",
    "\n",
    "# =======================input and output (2) =============================\n",
    "sw_result_dir=os.path.join(work_dir, 'step8_raw_Sw_buf_100m')\n",
    "opath=os.path.join(work_dir, 'step9_merge_raw_Sw_buf_100m')\n",
    "if not os.path.exists(opath):\n",
    "    os.makedirs(opath)\n",
    "ofile = 'sw_buf_100m.tif'  \n",
    "\n",
    "# ==========================================================================\n",
    "first_day = 121  # May 1\n",
    "last_day = 181   # June 30\n",
    "ndays = last_day-first_day+1\n",
    "Sw_nodata=-9999\n",
    "\n",
    "for i in np.arange(ndays):\n",
    "    print('day'+str(i))\n",
    "    DOY = first_day+i\n",
    "    ofile_raster='sw_DOY'+str(DOY)+'.tif'\n",
    "    ofile_path=os.path.join(sw_result_dir,ofile_raster)\n",
    "\n",
    "    r = gdal.Open(ofile_path)\n",
    "    band = r.GetRasterBand(1) #bands start at one\n",
    "    if i == 0:\n",
    "        tpl_raster=ofile_raster\n",
    "        \n",
    "        sw=band.ReadAsArray().astype(np.float)\n",
    "        m = (sw==Sw_nodata)\n",
    "        sw_mask = np.ma.make_mask(m)\n",
    "        \n",
    "        (ny,nx) = np.shape(sw)\n",
    "        Total_Radiation = np.empty((ny,nx,ndays))\n",
    "    Total_Radiation[:,:,i] = band.ReadAsArray().astype(np.float)\n",
    "    del r,band\n",
    "\n",
    "SW_Rad = np.nanmean(Total_Radiation,axis = 2) #Return Average Annual\n",
    "Sw_Rad_value=np.ma.getdata(SW_Rad)\n",
    "Sw_Rad_value[sw_mask==True]=np.nan\n",
    "array_to_raster(os.path.join(sw_result_dir,tpl_raster),os.path.join(opath,ofile),Sw_Rad_value,Sw_nodata)\n",
    "\n",
    "print('Done')"
   ]
  },
  {
   "cell_type": "code",
   "execution_count": 13,
   "metadata": {},
   "outputs": [
    {
     "name": "stderr",
     "output_type": "stream",
     "text": [
      "/glade/u/home/hongli/tools/miniconda/ENTER/lib/python3.7/site-packages/ipykernel_launcher.py:9: VisibleDeprecationWarning: Passing `normed=True` on non-uniform bins has always been broken, and computes neither the probability density function nor the probability mass function. The result is only correct if the bins are uniform, when density=True will produce the same result anyway. The argument will be removed in a future version of numpy.\n",
      "  if __name__ == '__main__':\n"
     ]
    },
    {
     "data": {
      "text/plain": [
       "<Figure size 640x480 with 1 Axes>"
      ]
     },
     "metadata": {},
     "output_type": "display_data"
    }
   ],
   "source": [
    "import numpy as np\n",
    "import matplotlib.pyplot as plt\n",
    "\n",
    "# Choose how many bins you want here\n",
    "num_bins = 100\n",
    "\n",
    "# Use the histogram function to bin the data\n",
    "Sw_Rad_value_extract = Sw_Rad_value[~np.isnan(Sw_Rad_value)]\n",
    "counts, bin_edges = np.histogram(Sw_Rad_value_extract, bins=num_bins, normed=True)\n",
    "\n",
    "# Now find the cdf\n",
    "cdf = np.cumsum(counts)\n",
    "\n",
    "# And finally plot the cdf\n",
    "plt.plot(bin_edges[1:], cdf)\n",
    "\n",
    "plt.show()"
   ]
  },
  {
   "cell_type": "code",
   "execution_count": null,
   "metadata": {},
   "outputs": [],
   "source": []
  }
 ],
 "metadata": {
  "kernelspec": {
   "display_name": "Python [conda env:ENTER]",
   "language": "python",
   "name": "conda-env-ENTER-py"
  },
  "language_info": {
   "codemirror_mode": {
    "name": "ipython",
    "version": 3
   },
   "file_extension": ".py",
   "mimetype": "text/x-python",
   "name": "python",
   "nbconvert_exporter": "python",
   "pygments_lexer": "ipython3",
   "version": "3.7.0"
  }
 },
 "nbformat": 4,
 "nbformat_minor": 4
}
