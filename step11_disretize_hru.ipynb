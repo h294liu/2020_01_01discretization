{
 "cells": [
  {
   "cell_type": "code",
   "execution_count": null,
   "metadata": {},
   "outputs": [],
   "source": [
    "\n",
    "\n",
    "# This script is to merge DEM rasters and clip useful domain\n",
    "work_dir='/glade/u/home/hongli/work/research/discretization/scripts'\n",
    "input_dir=${work_dir}/input\n",
    "slp_file=${input_dir}/slope.tif\n",
    "asp_file=${input_dir}/aspect.tif\n",
    "\n",
    "# reclassify slope\n",
    "# Define bins that you want, and then classify the data\n",
    "class_bins = [lidar_chm_im.min(), 2, 7, 12, np.iinfo(np.int32).max]\n",
    "\n",
    "# Classify the original image array, then unravel it again for plotting\n",
    "lidar_chm_im_class = np.digitize(lidar_chm_im, class_bins)\n",
    "\n",
    "# Note that you have an extra class in the data (0)\n",
    "print(np.unique(lidar_chm_im_class))\n",
    "[0 1 2 3 4]"
   ]
  }
 ],
 "metadata": {
  "kernelspec": {
   "display_name": "Python [conda env:ENTER]",
   "language": "python",
   "name": "conda-env-ENTER-py"
  },
  "language_info": {
   "codemirror_mode": {
    "name": "ipython",
    "version": 3
   },
   "file_extension": ".py",
   "mimetype": "text/x-python",
   "name": "python",
   "nbconvert_exporter": "python",
   "pygments_lexer": "ipython3",
   "version": "3.7.0"
  }
 },
 "nbformat": 4,
 "nbformat_minor": 4
}
