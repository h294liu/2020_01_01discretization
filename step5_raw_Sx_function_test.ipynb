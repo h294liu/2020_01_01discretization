{
 "cells": [
  {
   "cell_type": "code",
   "execution_count": 144,
   "metadata": {},
   "outputs": [
    {
     "name": "stdout",
     "output_type": "stream",
     "text": [
      "read raw data\n",
      "calculate raw lat/lon\n",
      "read buf data\n",
      "calculate buf lat/lon\n",
      "subset buf data\n",
      "calcualte Sx\n",
      "(1) process buf data\n",
      "(2) process raw data\n",
      "(3) calculate azim\n",
      "(4) calculate Sx\n",
      "Done\n"
     ]
    }
   ],
   "source": [
    "from osgeo import gdal\n",
    "import argparse, os\n",
    "import numpy as np\n",
    "from pyproj import Proj\n",
    "gdal.UseExceptions()\n",
    "\n",
    "def calculate_Sx(raw_y_coords_2d,raw_x_coords_2d,raw_ele,raw_mask,buf_y_coords_2d,buf_x_coords_2d,buf_ele,nodata):\n",
    "    \n",
    "    # raw data are in shape (ny_subset,nx_subset) \n",
    "    # buf data are in shape (ny_buf_subset, nx_buf_subset)\n",
    "\n",
    "    # define upwind window\n",
    "    R = 6371.0 #km\n",
    "    cell_size = 9.259259259300000407e-05 #0.000833333 # grid cell size (degree) obtained from raw DEM\n",
    "    dmax = 0.2 #km 0.2, 0.5\n",
    "    azims_wind = range(235, 340+1, 5)\n",
    "\n",
    "    (ny,nx) = np.shape(raw_y_coords_2d)\n",
    "    raw_num = ny*nx\n",
    "    (ny_buf,nx_buf) = np.shape(buf_y_coords_2d)\n",
    "    buf_num = ny_buf*nx_buf\n",
    "\n",
    "    # reshape buf array (raw_num, buf_num). Repeat on rows.\n",
    "    print('(1) process buf data')\n",
    "    p = Proj(proj='utm',zone=13,ellps='GRS80',datum='NAD83', preserve_units=False)\n",
    "    buf_lon, buf_lat = p(buf_x_coords_2d, buf_y_coords_2d, inverse=True) # inverse transform\n",
    "    buf_lat = np.deg2rad(buf_lat.reshape(1,buf_num).repeat(raw_num, axis=0))\n",
    "    buf_lon = np.deg2rad(buf_lon.reshape(1,buf_num).repeat(raw_num, axis=0))\n",
    "    buf_ele = (buf_ele.reshape(1,buf_num).repeat(raw_num, axis=0))*0.001 #m to km\n",
    "\n",
    "    # reshape raw array (raw_num, buf_num). Repeat on columns.\n",
    "    print('(2) process raw data')\n",
    "    p = Proj(proj='utm',zone=13,ellps='GRS80',datum='NAD83', preserve_units=False)\n",
    "    raw_lon, raw_lat = p(raw_x_coords_2d, raw_y_coords_2d, inverse=True) # inverse transform\n",
    "    raw_lat = np.deg2rad(raw_lat.reshape(raw_num,1).repeat(buf_num, axis=1))\n",
    "    raw_lon = np.deg2rad(raw_lon.reshape(raw_num,1).repeat(buf_num, axis=1))\n",
    "    raw_ele = (raw_ele.reshape(raw_num,1).repeat(buf_num, axis=1))*0.001\n",
    "    delta_ele = buf_ele - raw_ele\n",
    "    raw_mask = raw_mask.reshape(raw_num,1)\n",
    "\n",
    "    # Haversine distance (km)\n",
    "    print('(3) calculate azim')\n",
    "    a = (np.sin((raw_lat - buf_lat)/2))**2 + np.cos(raw_lat)*np.cos(buf_lat) * (np.sin((raw_lon - buf_lon)/2))**2\n",
    "    c = 2 * np.arctan2(np.sqrt(a), np.sqrt(1-a))\n",
    "    d = R * c \n",
    "\n",
    "    # 4-corner Azimuth (radiance) from the interested cell to a buffered cell\n",
    "    buf_lat_top = buf_lat + 0.5*np.deg2rad(cell_size) \n",
    "    buf_lat_bottom = buf_lat - 0.5*np.deg2rad(cell_size) \n",
    "    buf_lon_left = buf_lon - 0.5*np.deg2rad(cell_size) \n",
    "    buf_lon_right = buf_lon + 0.5*np.deg2rad(cell_size) \n",
    "\n",
    "    theta_top_left = azimuth(theta1 = raw_lat, lamda1 = raw_lon, theta2 = buf_lat_top, lamda2 = buf_lon_left)\n",
    "    theta_top_right = azimuth(theta1 = raw_lat, lamda1 = raw_lon, theta2 = buf_lat_top, lamda2 = buf_lon_right)\n",
    "    theta_bottom_left = azimuth(theta1 = raw_lat, lamda1 = raw_lon, theta2 = buf_lat_bottom, lamda2 = buf_lon_left)\n",
    "    theta_bottom_right = azimuth(theta1 = raw_lat, lamda1 = raw_lon, theta2 = buf_lat_bottom, lamda2 = buf_lon_right)\n",
    "#    del raw_lat,raw_lon,raw_ele,buf_lat,buf_lon,buf_ele\n",
    "\n",
    "    azim = np.zeros((raw_num,buf_num,4),dtype=float)\n",
    "    azim[:,:,0] = theta_top_left\n",
    "    azim[:,:,1] = theta_top_right\n",
    "    azim[:,:,2] = theta_bottom_left\n",
    "    azim[:,:,3] = theta_bottom_right\n",
    "\n",
    "    azim_min = np.nanmin(azim, axis=2) # shape(raw_num,buf_num)\n",
    "    azim_max = np.nanmax(azim, axis=2)\n",
    "\n",
    "    # Calculate SX along every increment wind vector\n",
    "    print('(4) calculate Sx')\n",
    "    wind_num=len(azims_wind)\n",
    "    Sx_azim = np.zeros((raw_num,wind_num)) # each grid's Max Sx per wind direction\n",
    "\n",
    "    for i in range(raw_num):\n",
    "        if raw_mask[i]==False:\n",
    "            for j in range(wind_num):\n",
    "                azim_wind = azims_wind[j]\n",
    "                azim_wind_rad = azim_wind*np.pi/180.0\n",
    "\n",
    "                # Select buffered cells containing the wind vector\n",
    "                condition1 = d[i,:] <= dmax # max distance from cell of interest\n",
    "                condition2 = np.logical_and(azim_min[i,:] <= azim_wind_rad, azim_max[i,:] >= azim_wind_rad) # cover wind vector\n",
    "                condition3 = buf_lon_right[i,:] <= raw_lon[i,0] # on the west of cell of interest\n",
    "                select_col = np.where(np.logical_and(np.logical_and(condition1, condition2), condition3) == True)\n",
    "\n",
    "                if len(select_col[0])==0:\n",
    "                    Sx_ij=np.nan\n",
    "                else:\n",
    "                    Sx_ij = np.max(np.arctan(np.tan(np.divide(delta_ele[i,select_col], d[i,select_col])))*180/np.pi)\n",
    "                    if Sx_ij < 0.0: #[-pi, pi] -> [0, 2pi]\n",
    "                        Sx_ij = Sx_ij + 2*np.pi \n",
    "                Sx_azim[i,j]=Sx_ij\n",
    "#             print('Point '+str(i+1)+'. Mean Max Sx = ' +str(round(np.nanmean(Sx_azim[i,:]),2)))\n",
    "        else:\n",
    "            Sx_azim[i,:]=np.nan\n",
    "    Sx = np.nanmean(Sx_azim, axis=1) # each grid's mean Max Sx of all wind directions.(raw_um,)\n",
    "    Sx = np.reshape(Sx, (ny,nx))\n",
    "    Sx_fill = np.where(~np.isnan(Sx),Sx,nodata)\n",
    "    return Sx_fill\n",
    "\n",
    "def azimuth(theta1, lamda1, theta2, lamda2):\n",
    "    # Azimuth (in radiance)\n",
    "    # reference: https://www.omnicalculator.com/other/azimuth#how-to-calculate-the-azimuth-an-example\n",
    "    delta_lamda = lamda2 - lamda1\n",
    "    y = np.multiply(np.sin(delta_lamda),np.cos(theta2))\n",
    "    x1 = np.multiply(np.cos(theta1), np.sin(theta2))\n",
    "    x2 = np.multiply(np.multiply(np.sin(theta1), np.cos(theta2)), np.cos(delta_lamda))\n",
    "    x = x1-x2\n",
    "    theta = np.arctan2(y, x) # NOTE: In EXCEL, ATAN2(x,y). The places of x and y are tricky.    \n",
    "\n",
    "    theta_2pi = np.where(theta >= 0.0, theta, 2*np.pi+theta) #[-pi, pi] -> [0, 2pi]\n",
    "    return theta_2pi \n",
    "\n",
    "def process_command_line():\n",
    "    '''Parse the commandline'''\n",
    "    parser = argparse.ArgumentParser(description='Script to subset a netcdf file based on a list of IDs.')\n",
    "    parser.add_argument('dem_raster', help='path of file with watershed DEM grid cells.')\n",
    "    parser.add_argument('dem_buf_raster',help='path of file with buffered DEM grid cells.')\n",
    "    parser.add_argument('row_start',help='start row id of rawfile.')\n",
    "    parser.add_argument('row_end',help='end row id of rawfile.')\n",
    "    parser.add_argument('col_start',help='start column id of rawfile.')\n",
    "    parser.add_argument('col_end',help='end column id of rawfile.')\n",
    "    parser.add_argument('buf_window',help='number of buffered grids for buffered dem extraction.')    \n",
    "    parser.add_argument('opath',help='output folder path.')\n",
    "    args = parser.parse_args()\n",
    "    return(args)\n",
    "\n",
    "# main script\n",
    "root_dir='/glade/u/home/hongli/work/research/discretization/scripts'\n",
    "dem_raster=os.path.join(root_dir, 'step2_dem_postprocess','dem.tif')\n",
    "dem_buf_raster=os.path.join(root_dir, 'step2_dem_postprocess','dem_buf.tif')\n",
    "row_start=3500\n",
    "row_end=3505\n",
    "col_start=2550\n",
    "col_end=2555\n",
    "buf_window=300 # unit\n",
    "\n",
    "outfolder = os.path.join(root_dir, 'step5_raw_Sx')\n",
    "if not os.path.exists(outfolder):\n",
    "    os.makedirs(outfolder)\n",
    "dem_nodata=-999999\n",
    "Sx_nodata=-9999\n",
    "\n",
    "#====================================================\n",
    "# read raw raster [ELEVATION]\n",
    "print('read raw data')\n",
    "r = gdal.Open(dem_raster)\n",
    "band = r.GetRasterBand(1) #bands start at one\n",
    "elev = band.ReadAsArray().astype(np.float)\n",
    "mask = (elev==dem_nodata)\n",
    "elev = np.where(elev==dem_nodata,np.nan,elev)\n",
    "\n",
    "elev_subset = elev[row_start:row_end,col_start:col_end]\n",
    "mask_subset = mask[row_start:row_end,col_start:col_end]\n",
    "del elev,mask\n",
    "\n",
    "#====================================================\n",
    "# calculate raw lat/lon coordinates\n",
    "# reference: https://gis.stackexchange.com/questions/42790/gdal-and-python-how-to-get-coordinates-for-all-cells-having-a-specific-value\n",
    "print('calculate raw lat/lon')\n",
    "(upper_left_x, x_size, x_rotation, upper_left_y, y_rotation, y_size) = r.GetGeoTransform()\n",
    "x_index=np.arange(col_start,col_end)\n",
    "y_index=np.arange(row_start,row_end)\n",
    "x_coords = x_index * x_size + upper_left_x + (x_size / 2.0) #add half the cell size to centre the point\n",
    "y_coords = y_index * y_size + upper_left_y + (y_size / 2.0) \n",
    "\n",
    "ny = row_end-row_start\n",
    "nx = col_end-col_start\n",
    "x_coords_2d = np.repeat(np.reshape(x_coords,(1,nx)), ny, axis=0)\n",
    "y_coords_2d = np.repeat(np.reshape(y_coords,(ny,1)), nx, axis=1)\n",
    "del x_coords,y_coords,r\n",
    "\n",
    "#====================================================\n",
    "print('read buf data')\n",
    "# read buffered raster [ELEVATION]\n",
    "r = gdal.Open(dem_buf_raster)\n",
    "band = r.GetRasterBand(1) #bands start at one\n",
    "elev_buf = band.ReadAsArray().astype(np.float)\n",
    "elev_buf = np.where(elev_buf==dem_nodata,np.nan,elev_buf)\n",
    "(ny_buf,nx_buf) = np.shape(elev_buf)\n",
    "\n",
    "# calculate buffered lat/lon coordinates\n",
    "print('calculate buf lat/lon')\n",
    "(upper_left_x, x_size, x_rotation, upper_left_y, y_rotation, y_size) = r.GetGeoTransform()\n",
    "x_index_buf=np.arange(nx_buf)\n",
    "y_index_buf=np.arange(ny_buf)\n",
    "x_coords_buf = x_index_buf * x_size + upper_left_x + (x_size / 2.0) #add half the cell size to centre the point\n",
    "y_coords_buf = y_index_buf * y_size + upper_left_y + (y_size / 2.0) \n",
    "\n",
    "x_coords_2d_buf = np.repeat(np.reshape(x_coords_buf,(1,nx_buf)), ny_buf, axis=0)\n",
    "y_coords_2d_buf = np.repeat(np.reshape(y_coords_buf,(ny_buf,1)), nx_buf, axis=1)\n",
    "del x_coords_buf,y_coords_buf,r\n",
    "\n",
    "# subset\n",
    "print('subset buf data')\n",
    "buf_row_start = np.argmin(abs(y_coords_2d_buf[:,0] - (np.amax(y_coords_2d[:,0])+buf_window)))\n",
    "buf_row_end = np.argmin(abs(y_coords_2d_buf[:,0] - (np.amin(y_coords_2d[:,0])-buf_window)))\n",
    "buf_col_start = np.argmin(abs(x_coords_2d_buf[0,:] - (np.amin(x_coords_2d[0,:])-buf_window)))\n",
    "buf_col_end = np.argmin(abs(x_coords_2d_buf[0,:] - (np.amax(x_coords_2d[0,:])+ buf_window)))\n",
    "\n",
    "x_coords_2d_buf_subset = x_coords_2d_buf[buf_row_start:buf_row_end,buf_col_start:buf_col_end]\n",
    "y_coords_2d_buf_subset = y_coords_2d_buf[buf_row_start:buf_row_end,buf_col_start:buf_col_end]\n",
    "elev_buf_subset = elev_buf[buf_row_start:buf_row_end,buf_col_start:buf_col_end]   \n",
    "del x_coords_2d_buf,y_coords_2d_buf,elev_buf\n",
    "\n",
    "# #====================================================\n",
    "# calcualte Sx\n",
    "print('calcualte Sx')\n",
    "# Sx=calculate_Sx(lats_subset,lons_subset,elev_subset,mask_subset,lats_buf_subset,lons_buf_subset,elev_buf_subset,Sx_nodata)    \n",
    "Sx=calculate_Sx(y_coords_2d,x_coords_2d,elev_subset,mask_subset,\n",
    "                y_coords_2d_buf_subset,x_coords_2d_buf_subset,elev_buf_subset,Sx_nodata)\n",
    "\n",
    "# write Sx output\n",
    "ofile='Sx_Row'+str(row_start)+'_'+str(row_end)+'_Col'+str(col_start)+'_'+str(col_end)+'.txt'\n",
    "np.savetxt(os.path.join(outfolder,ofile),Sx,delimiter=',',fmt='%f')\n",
    "\n",
    "print('Done')\n"
   ]
  },
  {
   "cell_type": "code",
   "execution_count": 137,
   "metadata": {},
   "outputs": [
    {
     "data": {
      "text/plain": [
       "array([4462635.85023551, 4462626.68083751, 4462617.51143951,\n",
       "       4462608.34204151, 4462599.17264352])"
      ]
     },
     "execution_count": 137,
     "metadata": {},
     "output_type": "execute_result"
    }
   ],
   "source": [
    "y_coords_2d[:,0]"
   ]
  },
  {
   "cell_type": "code",
   "execution_count": 139,
   "metadata": {},
   "outputs": [
    {
     "data": {
      "text/plain": [
       "(4463140.266119146, 4462104.110596961)"
      ]
     },
     "execution_count": 139,
     "metadata": {},
     "output_type": "execute_result"
    }
   ],
   "source": [
    "y_coords_2d_buf_subset[0,0],y_coords_2d_buf_subset[-1,0]"
   ]
  },
  {
   "cell_type": "code",
   "execution_count": 140,
   "metadata": {},
   "outputs": [
    {
     "data": {
      "text/plain": [
       "(array([337619.00735262, 337628.17721988, 337637.34708714, 337646.51695441,\n",
       "        337655.68682167]), 337119.63675018895, 338146.5011664238)"
      ]
     },
     "execution_count": 140,
     "metadata": {},
     "output_type": "execute_result"
    }
   ],
   "source": [
    "x_coords_2d[0,:],x_coords_2d_buf_subset[0,0],x_coords_2d_buf_subset[0,-1]"
   ]
  },
  {
   "cell_type": "code",
   "execution_count": 116,
   "metadata": {},
   "outputs": [
    {
     "data": {
      "text/plain": [
       "array([40.29846196, 40.2983794 , 40.29829683, 40.29821427, 40.29813171])"
      ]
     },
     "execution_count": 116,
     "metadata": {},
     "output_type": "execute_result"
    }
   ],
   "source": [
    "lats_subset[:,0]"
   ]
  },
  {
   "cell_type": "code",
   "execution_count": 120,
   "metadata": {},
   "outputs": [
    {
     "data": {
      "text/plain": [
       "array([40.30454709, 40.30446452, 40.30438196, 40.30429939, 40.30421683,\n",
       "       40.30413426, 40.3040517 , 40.30396913, 40.30388657, 40.303804  ,\n",
       "       40.30372143, 40.30363887, 40.3035563 , 40.30347374, 40.30339117,\n",
       "       40.30330861, 40.30322604, 40.30314348, 40.30306091, 40.30297834,\n",
       "       40.30289578, 40.30281321, 40.30273065, 40.30264808])"
      ]
     },
     "execution_count": 120,
     "metadata": {},
     "output_type": "execute_result"
    }
   ],
   "source": [
    "lats_buf[buf_row_start:buf_row_end,buf_match_col_start]"
   ]
  },
  {
   "cell_type": "code",
   "execution_count": 119,
   "metadata": {},
   "outputs": [
    {
     "data": {
      "text/plain": [
       "array([40.30452935, 40.30444678, 40.30436422, 40.30428165, 40.30419909,\n",
       "       40.30411652, 40.30403396, 40.30395139, 40.30386882, 40.30378626,\n",
       "       40.30370369, 40.30362113, 40.30353856, 40.303456  , 40.30337343,\n",
       "       40.30329087, 40.3032083 , 40.30312573, 40.30304317, 40.3029606 ,\n",
       "       40.30287804, 40.30279547, 40.30271291, 40.30263034])"
      ]
     },
     "execution_count": 119,
     "metadata": {},
     "output_type": "execute_result"
    }
   ],
   "source": [
    "lats_buf_subset[:,0]"
   ]
  },
  {
   "cell_type": "code",
   "execution_count": 146,
   "metadata": {},
   "outputs": [
    {
     "name": "stdout",
     "output_type": "stream",
     "text": [
      "(1) process buf data\n",
      "(2) process raw data\n",
      "(3) calculate azim\n",
      "(4) calculate Sx\n",
      "Done\n"
     ]
    }
   ],
   "source": [
    "raw_y_coords_2d=y_coords_2d\n",
    "raw_x_coords_2d=x_coords_2d\n",
    "raw_ele=elev_subset\n",
    "raw_mask=mask_subset\n",
    "buf_y_coords_2d=y_coords_2d_buf_subset\n",
    "buf_x_coords_2d=x_coords_2d_buf_subset\n",
    "buf_ele=elev_buf_subset\n",
    "nodata=Sx_nodata\n",
    "\n",
    "# raw data are in shape (ny_subset,nx_subset) \n",
    "# buf data are in shape (ny_buf_subset, nx_buf_subset)\n",
    "\n",
    "# define upwind window\n",
    "R = 6371.0 #km\n",
    "cell_size = 9.259259259300000407e-05 #0.000833333 # grid cell size (degree) obtained from raw DEM\n",
    "dmax = 0.2 #km 0.2, 0.5\n",
    "azims_wind = range(235, 340+1, 5)\n",
    "\n",
    "(ny,nx) = np.shape(raw_y_coords_2d)\n",
    "raw_num = ny*nx\n",
    "(ny_buf,nx_buf) = np.shape(buf_y_coords_2d)\n",
    "buf_num = ny_buf*nx_buf\n",
    "\n",
    "# reshape buf array (raw_num, buf_num). Repeat on rows.\n",
    "print('(1) process buf data')\n",
    "p = Proj(proj='utm',zone=13,ellps='GRS80',datum='NAD83', preserve_units=False)\n",
    "buf_lon, buf_lat = p(buf_x_coords_2d, buf_y_coords_2d, inverse=True) # inverse transform\n",
    "buf_lat = np.deg2rad(buf_lat.reshape(1,buf_num).repeat(raw_num, axis=0))\n",
    "buf_lng = np.deg2rad(buf_lon.reshape(1,buf_num).repeat(raw_num, axis=0))\n",
    "buf_ele = (buf_ele.reshape(1,buf_num).repeat(raw_num, axis=0))*0.001 #m to km\n",
    "\n",
    "# reshape raw array (raw_num, buf_num). Repeat on columns.\n",
    "print('(2) process raw data')\n",
    "p = Proj(proj='utm',zone=13,ellps='GRS80',datum='NAD83', preserve_units=False)\n",
    "raw_lon, raw_lat = p(raw_x_coords_2d, raw_y_coords_2d, inverse=True) # inverse transform\n",
    "raw_lat = np.deg2rad(raw_lat.reshape(raw_num,1).repeat(buf_num, axis=1))\n",
    "raw_lng = np.deg2rad(raw_lon.reshape(raw_num,1).repeat(buf_num, axis=1))\n",
    "raw_ele = (raw_ele.reshape(raw_num,1).repeat(buf_num, axis=1))*0.001\n",
    "delta_ele = buf_ele - raw_ele\n",
    "raw_mask = raw_mask.reshape(raw_num,1)\n",
    "\n",
    "# Haversine distance (km)\n",
    "print('(3) calculate azim')\n",
    "a = (np.sin((raw_lat - buf_lat)/2))**2 + np.cos(raw_lat)*np.cos(buf_lat) * (np.sin((raw_lng - buf_lng)/2))**2\n",
    "c = 2 * np.arctan2(np.sqrt(a), np.sqrt(1-a))\n",
    "d = R * c \n",
    "\n",
    "# 4-corner Azimuth (radiance) from the interested cell to a buffered cell\n",
    "buf_lat_top = buf_lat + 0.5*np.deg2rad(cell_size) \n",
    "buf_lat_bottom = buf_lat - 0.5*np.deg2rad(cell_size) \n",
    "buf_lng_left = buf_lng - 0.5*np.deg2rad(cell_size) \n",
    "buf_lng_right = buf_lng + 0.5*np.deg2rad(cell_size) \n",
    "\n",
    "theta_top_left = azimuth(theta1 = raw_lat, lamda1 = raw_lng, theta2 = buf_lat_top, lamda2 = buf_lng_left)\n",
    "theta_top_right = azimuth(theta1 = raw_lat, lamda1 = raw_lng, theta2 = buf_lat_top, lamda2 = buf_lng_right)\n",
    "theta_bottom_left = azimuth(theta1 = raw_lat, lamda1 = raw_lng, theta2 = buf_lat_bottom, lamda2 = buf_lng_left)\n",
    "theta_bottom_right = azimuth(theta1 = raw_lat, lamda1 = raw_lng, theta2 = buf_lat_bottom, lamda2 = buf_lng_right)\n",
    "# del raw_lat,raw_lon,raw_ele,buf_lat,buf_lon,buf_ele\n",
    "\n",
    "azim = np.zeros((raw_num,buf_num,4),dtype=float)\n",
    "azim[:,:,0] = theta_top_left\n",
    "azim[:,:,1] = theta_top_right\n",
    "azim[:,:,2] = theta_bottom_left\n",
    "azim[:,:,3] = theta_bottom_right\n",
    "\n",
    "azim_min = np.nanmin(azim, axis=2) # shape(raw_num,buf_num)\n",
    "azim_max = np.nanmax(azim, axis=2)\n",
    "\n",
    "# Calculate SX along every increment wind vector\n",
    "print('(4) calculate Sx')\n",
    "wind_num=len(azims_wind)\n",
    "Sx_azim = np.zeros((raw_num,wind_num)) # each grid's Max Sx per wind direction\n",
    "\n",
    "for i in range(raw_num):\n",
    "    if raw_mask[i]==False:\n",
    "        for j in range(wind_num):\n",
    "            azim_wind = azims_wind[j]\n",
    "            azim_wind_rad = azim_wind*np.pi/180.0\n",
    "\n",
    "            # Select buffered cells containing the wind vector\n",
    "            condition1 = d[i,:] <= dmax # max distance from cell of interest\n",
    "            condition2 = np.logical_and(azim_min[i,:] <= azim_wind_rad, azim_max[i,:] >= azim_wind_rad) # cover wind vector\n",
    "            condition3 = buf_lng_right[i,:] <= raw_lng[i,0] # on the west of cell of interest\n",
    "            select_col = np.where(np.logical_and(np.logical_and(condition1, condition2), condition3) == True)\n",
    "\n",
    "            if len(select_col[0])==0:\n",
    "                Sx_ij=np.nan\n",
    "            else:\n",
    "                Sx_ij = np.max(np.arctan(np.tan(np.divide(delta_ele[i,select_col], d[i,select_col])))*180/np.pi)\n",
    "                if Sx_ij < 0.0: #[-pi, pi] -> [0, 2pi]\n",
    "                    Sx_ij = Sx_ij + 2*np.pi \n",
    "            Sx_azim[i,j]=Sx_ij\n",
    "#             print('Point '+str(i+1)+'. Mean Max Sx = ' +str(round(np.nanmean(Sx_azim[i,:]),2)))\n",
    "    else:\n",
    "        Sx_azim[i,:]=np.nan\n",
    "Sx = np.nanmean(Sx_azim, axis=1) # each grid's mean Max Sx of all wind directions.(raw_um,)\n",
    "Sx = np.reshape(Sx, (ny,nx))\n",
    "Sx_fill = np.where(~np.isnan(Sx),Sx,nodata)\n",
    "print('Done')"
   ]
  },
  {
   "cell_type": "code",
   "execution_count": 150,
   "metadata": {},
   "outputs": [
    {
     "data": {
      "text/plain": [
       "array([[40.29846196, 40.29846196, 40.29846196, ..., 40.29846196,\n",
       "        40.29846196, 40.29846196],\n",
       "       [40.29846374, 40.29846374, 40.29846374, ..., 40.29846374,\n",
       "        40.29846374, 40.29846374],\n",
       "       [40.29846553, 40.29846553, 40.29846553, ..., 40.29846553,\n",
       "        40.29846553, 40.29846553],\n",
       "       ...,\n",
       "       [40.29813527, 40.29813527, 40.29813527, ..., 40.29813527,\n",
       "        40.29813527, 40.29813527],\n",
       "       [40.29813705, 40.29813705, 40.29813705, ..., 40.29813705,\n",
       "        40.29813705, 40.29813705],\n",
       "       [40.29813883, 40.29813883, 40.29813883, ..., 40.29813883,\n",
       "        40.29813883, 40.29813883]])"
      ]
     },
     "execution_count": 150,
     "metadata": {},
     "output_type": "execute_result"
    }
   ],
   "source": [
    "np.rad2deg(raw_lat)"
   ]
  },
  {
   "cell_type": "code",
   "execution_count": 151,
   "metadata": {},
   "outputs": [
    {
     "data": {
      "text/plain": [
       "array([[40.30112956, 40.30113135, 40.30113313, ..., 40.29555011,\n",
       "        40.29555189, 40.29555367],\n",
       "       [40.30112956, 40.30113135, 40.30113313, ..., 40.29555011,\n",
       "        40.29555189, 40.29555367],\n",
       "       [40.30112956, 40.30113135, 40.30113313, ..., 40.29555011,\n",
       "        40.29555189, 40.29555367],\n",
       "       ...,\n",
       "       [40.30112956, 40.30113135, 40.30113313, ..., 40.29555011,\n",
       "        40.29555189, 40.29555367],\n",
       "       [40.30112956, 40.30113135, 40.30113313, ..., 40.29555011,\n",
       "        40.29555189, 40.29555367],\n",
       "       [40.30112956, 40.30113135, 40.30113313, ..., 40.29555011,\n",
       "        40.29555189, 40.29555367]])"
      ]
     },
     "execution_count": 151,
     "metadata": {},
     "output_type": "execute_result"
    }
   ],
   "source": [
    "np.rad2deg(buf_lat)\n",
    "#,raw_lon,raw_ele,buf_lat,buf_lon,buf_ele"
   ]
  },
  {
   "cell_type": "code",
   "execution_count": null,
   "metadata": {},
   "outputs": [],
   "source": []
  }
 ],
 "metadata": {
  "kernelspec": {
   "display_name": "Python [conda env:ENTER]",
   "language": "python",
   "name": "conda-env-ENTER-py"
  },
  "language_info": {
   "codemirror_mode": {
    "name": "ipython",
    "version": 3
   },
   "file_extension": ".py",
   "mimetype": "text/x-python",
   "name": "python",
   "nbconvert_exporter": "python",
   "pygments_lexer": "ipython3",
   "version": "3.7.0"
  }
 },
 "nbformat": 4,
 "nbformat_minor": 4
}
