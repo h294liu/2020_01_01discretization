{
 "cells": [
  {
   "cell_type": "code",
   "execution_count": 85,
   "metadata": {},
   "outputs": [
    {
     "name": "stdout",
     "output_type": "stream",
     "text": [
      "Done\n"
     ]
    }
   ],
   "source": [
    "# convert aspect from [0,360] to [0,180]\n",
    "# references: \n",
    "# https://livebook.manning.com/book/geoprocessing-with-python/chapter-9/81\n",
    "# https://gis.stackexchange.com/questions/58517/python-gdal-save-array-as-raster-with-projection-from-other-file\n",
    "# https://gis.stackexchange.com/questions/319249/inserting-nodata-value-using-gdal\n",
    "\n",
    "import os\n",
    "import numpy as np\n",
    "import pandas as pd\n",
    "from osgeo import gdal\n",
    "gdal.UseExceptions()\n",
    "\n",
    "asp_360 = '/gpfs/fs1/work/hongli/research/discretization/scripts/step2_dem_postprocess/aspect_buf_100m_neg1.tif'\n",
    "asp_180 = '/gpfs/fs1/work/hongli/research/discretization/scripts/step2_dem_postprocess/aspect_buf_100m_180deg.tif'\n",
    "nodata = -9999\n",
    "\n",
    "in_ds = gdal.Open(asp_360)\n",
    "in_band = in_ds.GetRasterBand(1) \n",
    "asp_360_data = in_band.ReadAsArray()\n",
    "asp_180_data = np.where(asp_360_data>180, 360-asp_360_data, asp_360_data)\n",
    "array = np.where(asp_180_data<-1, np.nan, asp_180_data)\n",
    "\n",
    "gtiff_driver = gdal.GetDriverByName('GTiff')\n",
    "out_ds = gtiff_driver.Create(asp_180, in_band.XSize, in_band.YSize, 1, in_band.DataType) #\n",
    "out_ds.SetProjection(in_ds.GetProjection())\n",
    "out_ds.SetGeoTransform(in_ds.GetGeoTransform())\n",
    "\n",
    "out_ds.GetRasterBand(1).WriteArray(array)\n",
    "out_ds.GetRasterBand(1).SetNoDataValue(nodata) # set nodata value of the band\n",
    "out_ds.FlushCache() # Write to disk\n",
    "del out_ds # delete the variable, so IDE/interactive Python releases the dataset object when the script finishes.\n",
    "\n",
    "print('Done')"
   ]
  },
  {
   "cell_type": "code",
   "execution_count": 78,
   "metadata": {},
   "outputs": [
    {
     "data": {
      "text/plain": [
       "(array([1761, 1761, 1761, ..., 4239, 4239, 4240]),\n",
       " array([4189, 4190, 4191, ..., 2710, 2711, 2711]))"
      ]
     },
     "execution_count": 78,
     "metadata": {},
     "output_type": "execute_result"
    }
   ],
   "source": [
    "# asp_360_data = read_raster(asp_360,'aspect','Area')\n",
    "np.where(array!=-9999)"
   ]
  },
  {
   "cell_type": "code",
   "execution_count": 79,
   "metadata": {},
   "outputs": [
    {
     "data": {
      "text/plain": [
       "(135.0, 135.0)"
      ]
     },
     "execution_count": 79,
     "metadata": {},
     "output_type": "execute_result"
    }
   ],
   "source": [
    "asp_360_data[4240,2711],array[4240,2711]"
   ]
  },
  {
   "cell_type": "code",
   "execution_count": 86,
   "metadata": {},
   "outputs": [
    {
     "data": {
      "text/plain": [
       "array([[nan, nan, nan, ..., nan, nan, nan],\n",
       "       [nan, nan, nan, ..., nan, nan, nan],\n",
       "       [nan, nan, nan, ..., nan, nan, nan],\n",
       "       ...,\n",
       "       [nan, nan, nan, ..., nan, nan, nan],\n",
       "       [nan, nan, nan, ..., nan, nan, nan],\n",
       "       [nan, nan, nan, ..., nan, nan, nan]], dtype=float32)"
      ]
     },
     "execution_count": 86,
     "metadata": {},
     "output_type": "execute_result"
    }
   ],
   "source": [
    "in_ds = gdal.Open(asp_180)\n",
    "in_band = in_ds.GetRasterBand(1) \n",
    "asp_180_data = in_band.ReadAsArray()\n",
    "asp_180_data"
   ]
  },
  {
   "cell_type": "code",
   "execution_count": 82,
   "metadata": {},
   "outputs": [
    {
     "data": {
      "text/plain": [
       "array([[0., 0., 0., ..., 0., 0., 0.],\n",
       "       [0., 0., 0., ..., 0., 0., 0.],\n",
       "       [0., 0., 0., ..., 0., 0., 0.],\n",
       "       ...,\n",
       "       [0., 0., 0., ..., 0., 0., 0.],\n",
       "       [0., 0., 0., ..., 0., 0., 0.],\n",
       "       [0., 0., 0., ..., 0., 0., 0.]], dtype=float32)"
      ]
     },
     "execution_count": 82,
     "metadata": {},
     "output_type": "execute_result"
    }
   ],
   "source": [
    "asp_180_data"
   ]
  },
  {
   "cell_type": "code",
   "execution_count": 43,
   "metadata": {},
   "outputs": [
    {
     "data": {
      "text/plain": [
       "(8223, 6397)"
      ]
     },
     "execution_count": 43,
     "metadata": {},
     "output_type": "execute_result"
    }
   ],
   "source": [
    "np.shape(in_band.ReadAsArray())"
   ]
  },
  {
   "cell_type": "code",
   "execution_count": 44,
   "metadata": {},
   "outputs": [],
   "source": [
    "a=in_band.ReadAsArray()"
   ]
  },
  {
   "cell_type": "code",
   "execution_count": 45,
   "metadata": {},
   "outputs": [
    {
     "data": {
      "text/plain": [
       "array([[-3.4028235e+38, -3.4028235e+38, -3.4028235e+38, ...,\n",
       "        -3.4028235e+38, -3.4028235e+38, -3.4028235e+38],\n",
       "       [-3.4028235e+38, -3.4028235e+38, -3.4028235e+38, ...,\n",
       "        -3.4028235e+38, -3.4028235e+38, -3.4028235e+38],\n",
       "       [-3.4028235e+38, -3.4028235e+38, -3.4028235e+38, ...,\n",
       "        -3.4028235e+38, -3.4028235e+38, -3.4028235e+38],\n",
       "       ...,\n",
       "       [-3.4028235e+38, -3.4028235e+38, -3.4028235e+38, ...,\n",
       "        -3.4028235e+38, -3.4028235e+38, -3.4028235e+38],\n",
       "       [-3.4028235e+38, -3.4028235e+38, -3.4028235e+38, ...,\n",
       "        -3.4028235e+38, -3.4028235e+38, -3.4028235e+38],\n",
       "       [-3.4028235e+38, -3.4028235e+38, -3.4028235e+38, ...,\n",
       "        -3.4028235e+38, -3.4028235e+38, -3.4028235e+38]], dtype=float32)"
      ]
     },
     "execution_count": 45,
     "metadata": {},
     "output_type": "execute_result"
    }
   ],
   "source": [
    "a"
   ]
  },
  {
   "cell_type": "code",
   "execution_count": null,
   "metadata": {},
   "outputs": [],
   "source": [
    "np.where(a)"
   ]
  }
 ],
 "metadata": {
  "kernelspec": {
   "display_name": "Python [conda env:ENTER]",
   "language": "python",
   "name": "conda-env-ENTER-py"
  },
  "language_info": {
   "codemirror_mode": {
    "name": "ipython",
    "version": 3
   },
   "file_extension": ".py",
   "mimetype": "text/x-python",
   "name": "python",
   "nbconvert_exporter": "python",
   "pygments_lexer": "ipython3",
   "version": "3.7.0"
  }
 },
 "nbformat": 4,
 "nbformat_minor": 4
}
