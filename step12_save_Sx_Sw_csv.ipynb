{
 "cells": [
  {
   "cell_type": "code",
   "execution_count": 4,
   "metadata": {},
   "outputs": [
    {
     "name": "stdout",
     "output_type": "stream",
     "text": [
      "Done\n"
     ]
    }
   ],
   "source": [
    "import os\n",
    "import pandas as pd\n",
    "import numpy as np\n",
    "from osgeo import gdal\n",
    "gdal.UseExceptions()\n",
    "\n",
    "def read_raster(raster_file, var_name, area_name):\n",
    "    r = gdal.Open(raster_file)\n",
    "    band = r.GetRasterBand(1) \n",
    "    data = band.ReadAsArray().astype(np.float)\n",
    "    data_1d = data[~np.isnan(data)]\n",
    "\n",
    "    gt =r.GetGeoTransform()\n",
    "    pixelWidth = gt[1] # unit: m\n",
    "    pixelHeight = -gt[5]\n",
    "    pixelArea = pixelWidth*pixelHeight    \n",
    "\n",
    "    (unique, counts) = np.unique(data_1d, return_counts=True)\n",
    "    frequencies = np.asarray((unique, counts)).T\n",
    "    frequencies[:,1]=frequencies[:,1]*pixelArea\n",
    "\n",
    "    df = pd.DataFrame(frequencies, columns = [var_name, area_name]) \n",
    "    return df   \n",
    "\n",
    "root_dir = '/glade/u/home/hongli/work/research/discretization/scripts'\n",
    "sx_raster = os.path.join(root_dir,'step7_merge_raw_Sx/sx.tif')\n",
    "sw_raster = os.path.join(root_dir,'step9_merge_raw_Sw/sw.tif')\n",
    "nodata=-9999\n",
    "\n",
    "sw_var_raw = 'Sw'\n",
    "sx_var_raw = 'Sx'\n",
    "area_var_raw = 'area_m'\n",
    "\n",
    "# read raw sw\n",
    "# raw_df_sx = read_raster(sx_raster, sx_var_raw, area_var_raw)\n",
    "raw_df_sw = read_raster(sw_raster, sw_var_raw, area_var_raw)\n",
    "\n",
    "# save to csv\n",
    "# raw_df_sx.to_csv(os.path.join(root_dir,'step7_merge_raw_Sx/sx.csv'))\n",
    "raw_df_sw.to_csv(os.path.join(root_dir,'step9_merge_raw_Sw/sw.csv'))\n",
    "\n",
    "print('Done')"
   ]
  },
  {
   "cell_type": "code",
   "execution_count": null,
   "metadata": {},
   "outputs": [],
   "source": []
  }
 ],
 "metadata": {
  "kernelspec": {
   "display_name": "Python [conda env:ENTER]",
   "language": "python",
   "name": "conda-env-ENTER-py"
  },
  "language_info": {
   "codemirror_mode": {
    "name": "ipython",
    "version": 3
   },
   "file_extension": ".py",
   "mimetype": "text/x-python",
   "name": "python",
   "nbconvert_exporter": "python",
   "pygments_lexer": "ipython3",
   "version": "3.7.0"
  }
 },
 "nbformat": 4,
 "nbformat_minor": 4
}
